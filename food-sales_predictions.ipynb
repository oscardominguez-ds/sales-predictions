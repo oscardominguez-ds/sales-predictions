{
  "nbformat": 4,
  "nbformat_minor": 0,
  "metadata": {
    "colab": {
      "provenance": [],
      "authorship_tag": "ABX9TyP1wpwrGHpgVBLLmcCaRjQi",
      "include_colab_link": true
    },
    "kernelspec": {
      "name": "python3",
      "display_name": "Python 3"
    },
    "language_info": {
      "name": "python"
    }
  },
  "cells": [
    {
      "cell_type": "markdown",
      "metadata": {
        "id": "view-in-github",
        "colab_type": "text"
      },
      "source": [
        "<a href=\"https://colab.research.google.com/github/oscardominguez-ds/sales-predictions/blob/main/food-sales_predictions.ipynb\" target=\"_parent\"><img src=\"https://colab.research.google.com/assets/colab-badge.svg\" alt=\"Open In Colab\"/></a>"
      ]
    },
    {
      "cell_type": "markdown",
      "source": [
        "# food-sales-predictions\n",
        "Oscar Dominguez\n",
        "<h2> Loading Data </h2>\n"
      ],
      "metadata": {
        "id": "TrgwMXVOcJl1"
      }
    },
    {
      "cell_type": "code",
      "source": [],
      "metadata": {
        "id": "MUb89nMacQZf"
      },
      "execution_count": null,
      "outputs": []
    },
    {
      "cell_type": "markdown",
      "source": [
        "<h2> Data Cleaning </h2>\n"
      ],
      "metadata": {
        "id": "yN4DwYJxcT2N"
      }
    },
    {
      "cell_type": "code",
      "source": [],
      "metadata": {
        "id": "SL-7jq31cZtZ"
      },
      "execution_count": null,
      "outputs": []
    },
    {
      "cell_type": "markdown",
      "source": [
        "<h2> Exploratory Visuals </h2>\n"
      ],
      "metadata": {
        "id": "hjRiv9aUcW7K"
      }
    },
    {
      "cell_type": "code",
      "source": [],
      "metadata": {
        "id": "HnGgWoNHcaYi"
      },
      "execution_count": null,
      "outputs": []
    },
    {
      "cell_type": "markdown",
      "source": [
        "\n",
        "<h2> Explanatory Visuals </h2>"
      ],
      "metadata": {
        "id": "31K39rE2ccpO"
      }
    }
  ]
}